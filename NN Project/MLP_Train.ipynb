{
 "cells": [
  {
   "cell_type": "code",
   "execution_count": 11,
   "id": "f469b78d",
   "metadata": {},
   "outputs": [],
   "source": [
    "import torch\n",
    "import torch.nn as nn\n",
    "\n",
    "import numpy as np\n",
    "import matplotlib.pyplot as plt\n",
    "\n",
    "from sklearn import datasets\n",
    "from tqdm.notebook import tqdm\n",
    "\n",
    "#from sklearn.metrics import confusion_matrix\n",
    "import sklearn.metrics as sk_m\n",
    "from sklearn.metrics import plot_confusion_matrix\n",
    "import pandas as pd\n",
    "import seaborn as sn\n",
    "\n",
    "from IPython import embed\n",
    "\n",
    "import os\n",
    "import pickle\n",
    "import shutil"
   ]
  },
  {
   "cell_type": "code",
   "execution_count": 2,
   "id": "63cf58d2",
   "metadata": {},
   "outputs": [],
   "source": [
    "path_save = \"/Users/andyvarner/Documents/CI_Fall_2022/CI_Projects/NN Project/data\"\n",
    "d_filename = os.path.join(path_save, \"datasets.pkl\")\n",
    "all_datasets = pickle.load(open(d_filename, \"rb\"))\n",
    "\n",
    "f_filename = os.path.join(path_save, \"folds.pkl\")\n",
    "all_folds = pickle.load(open(f_filename, \"rb\"))"
   ]
  },
  {
   "cell_type": "code",
   "execution_count": 3,
   "id": "9147d6a7",
   "metadata": {},
   "outputs": [],
   "source": [
    "class Dataset(torch.utils.data.Dataset):\n",
    "    \n",
    "    def __init__(self, samples, labels):\n",
    "        \n",
    "        super(Dataset, self).__init__()\n",
    "        \n",
    "        self.create_dataset(samples, labels)\n",
    "        \n",
    "    def create_dataset(self, all_samples, all_labels):\n",
    "        \n",
    "        self.dataset = []\n",
    "        \n",
    "        for sample, label in zip(all_samples, all_labels):\n",
    "            self.dataset.append((torch.tensor(sample).float(), torch.tensor(label).long()))\n",
    "\n",
    "    def __getitem__(self, index):\n",
    "                                        \n",
    "        return self.dataset[index]                            \n",
    "        \n",
    "    def __len__(self):\n",
    "        \n",
    "        return len(self.dataset)"
   ]
  },
  {
   "cell_type": "code",
   "execution_count": 37,
   "id": "cfbe5cdd",
   "metadata": {},
   "outputs": [],
   "source": [
    "def train(fold, model, batch_size, title, num_classes, num_epochs = 200, rate = 10):\n",
    "    \n",
    "    # Make datasets pytorchy\n",
    "    \n",
    "    all_train_samples, all_train_labels = fold[\"train\"]\n",
    "    all_test_samples, all_test_labels = fold[\"test\"]\n",
    "    \n",
    "    train_dataset = Dataset(all_train_samples, all_train_labels)   \n",
    "    valid_dataset = Dataset(all_test_samples, all_test_labels) \n",
    "    \n",
    "    train_dataset = torch.utils.data.DataLoader(train_dataset, batch_size = batch_size, shuffle = True)\n",
    "    valid_dataset = torch.utils.data.DataLoader(valid_dataset, batch_size = 1, shuffle = False)\n",
    "    \n",
    "    # Init optimzizer\n",
    "\n",
    "    model.init_optimizer()\n",
    "\n",
    "    # Train and validate network\n",
    "\n",
    "    training_loss, training_metrics = [], []\n",
    "\n",
    "    for epoch in tqdm(range(num_epochs), desc = \"Training \" + title):\n",
    "\n",
    "        # Train network\n",
    "\n",
    "        epoch_loss = 0\n",
    "        for i, (sample, label) in enumerate(train_dataset):\n",
    "\n",
    "            preds = model(sample)\n",
    "\n",
    "            loss = model.objective(preds, label)\n",
    "\n",
    "            epoch_loss = epoch_loss + loss.item()\n",
    "\n",
    "            model.optimizer.zero_grad()\n",
    "            loss.backward()\n",
    "            model.optimizer.step()\n",
    "\n",
    "        epoch_loss = epoch_loss / (i + 1)\n",
    "\n",
    "        training_loss.append(epoch_loss)\n",
    "\n",
    "        # Validate network\n",
    "        \n",
    "        if(epoch % rate == 0):\n",
    "            \n",
    "            model.eval()\n",
    "\n",
    "            all_labels, all_preds = [], []\n",
    "            for i, (sample, label) in enumerate(valid_dataset):\n",
    "\n",
    "                pred = model(sample)\n",
    "                pred = torch.argmax(pred)\n",
    "\n",
    "                all_preds.append(pred.detach().numpy())\n",
    "                all_labels.append(label.numpy())\n",
    "                \n",
    "            # get metrics\n",
    "            training_metrics = sk_m.confusion_matrix(all_labels, all_preds)\n",
    "            \n",
    "            #epoch_accuracy = calculate_accuracy(np.asarray(all_preds), np.asarray(all_labels))\n",
    "\n",
    "            #training_metrics.append(cf_matrix)\n",
    "            \n",
    "            model.train()\n",
    "            \n",
    "    return training_loss, training_metrics"
   ]
  },
  {
   "cell_type": "code",
   "execution_count": 38,
   "id": "5af6187f",
   "metadata": {},
   "outputs": [],
   "source": [
    "class MLP(torch.nn.Module):\n",
    "    \n",
    "    def __init__(self, learning_rate, num_features, num_classes, num_neurons, loss_choice, activation_choice, optimizer_choice):\n",
    "    \n",
    "        super(MLP, self).__init__()\n",
    "    \n",
    "        self.alpha = learning_rate\n",
    "        self.num_features = num_features\n",
    "        self.num_classes = num_classes\n",
    "        self.num_neurons = num_neurons\n",
    "        self.loss_choice = loss_choice\n",
    "        self.activation_choice = activation_choice\n",
    "        self.optimizer_choice = optimizer_choice\n",
    "        \n",
    "        if(self.activation_choice.lower() == \"tanh\"):\n",
    "            self.network = torch.nn.Sequential(torch.nn.Linear(num_features, num_neurons),\n",
    "                                               torch.nn.Tanh(),\n",
    "                                               torch.nn.Linear(num_neurons, 64),\n",
    "                                               torch.nn.Tanh(),\n",
    "                                               torch.nn.Linear(64, num_classes))\n",
    "        if(self.activation_choice.lower() == \"sigmoid\"):\n",
    "            self.network = torch.nn.Sequential(torch.nn.Linear(num_features, num_neurons),\n",
    "                                               torch.nn.Sigmoid(),\n",
    "                                               torch.nn.Linear(num_neurons, 64),\n",
    "                                               torch.nn.Sigmoid(),\n",
    "                                               torch.nn.Linear(64, num_classes))\n",
    "            \n",
    "        if(self.activation_choice.lower() == \"relu\"):\n",
    "            self.network = torch.nn.Sequential(torch.nn.Linear(num_features, num_neurons),\n",
    "                                               torch.nn.ReLU(),\n",
    "                                               torch.nn.Linear(num_neurons, 64),\n",
    "                                               torch.nn.ReLU(),\n",
    "                                               torch.nn.Linear(64, num_classes))\n",
    "        \n",
    "        \n",
    "    def init_optimizer(self):\n",
    "        \n",
    "        if(optimizer_choice.lower() == \"sgd\"):\n",
    "            self.optimizer = torch.optim.SGD(self.parameters(), lr = self.alpha)\n",
    "        if(optimizer_choice.lower() == \"adam\"):\n",
    "            self.optimizer = torch.optim.Adam(self.parameters(), lr = self.alpha)\n",
    "\n",
    "    def objective(self, preds, labels):\n",
    "    \n",
    "        if(self.loss_choice.lower() == \"crossentropyloss\"):    \n",
    "            obj = torch.nn.CrossEntropyLoss()\n",
    "        if(self.loss_choice.lower() == \"mse\"):\n",
    "            obj = torch.nn.MSELoss()\n",
    "\n",
    "        return obj(preds, labels)\n",
    "\n",
    "    def forward(self, x):\n",
    "\n",
    "        return self.network(x)\n",
    "    "
   ]
  },
  {
   "cell_type": "code",
   "execution_count": 39,
   "id": "ecd1ed42",
   "metadata": {},
   "outputs": [],
   "source": [
    "def create_folder(path):\n",
    "    \n",
    "    if(os.path.exists(path)):\n",
    "        shutil.rmtree(path)\n",
    "        \n",
    "    os.makedirs(path)"
   ]
  },
  {
   "cell_type": "code",
   "execution_count": 40,
   "id": "fb8b5fe4",
   "metadata": {
    "scrolled": false
   },
   "outputs": [
    {
     "data": {
      "application/vnd.jupyter.widget-view+json": {
       "model_id": "ca2650f5378b43a79beccfcc84455d8d",
       "version_major": 2,
       "version_minor": 0
      },
      "text/plain": [
       "Training task_0_fold_0:   0%|          | 0/200 [00:00<?, ?it/s]"
      ]
     },
     "metadata": {},
     "output_type": "display_data"
    },
    {
     "data": {
      "application/vnd.jupyter.widget-view+json": {
       "model_id": "02759f3cdeb447c1bfa9998967739512",
       "version_major": 2,
       "version_minor": 0
      },
      "text/plain": [
       "Training task_0_fold_1:   0%|          | 0/200 [00:00<?, ?it/s]"
      ]
     },
     "metadata": {},
     "output_type": "display_data"
    },
    {
     "data": {
      "application/vnd.jupyter.widget-view+json": {
       "model_id": "715bb4d5ab8f4e70816cdde5886b4159",
       "version_major": 2,
       "version_minor": 0
      },
      "text/plain": [
       "Training task_0_fold_2:   0%|          | 0/200 [00:00<?, ?it/s]"
      ]
     },
     "metadata": {},
     "output_type": "display_data"
    },
    {
     "data": {
      "application/vnd.jupyter.widget-view+json": {
       "model_id": "882351c928e64a7f863d27047c45fdb2",
       "version_major": 2,
       "version_minor": 0
      },
      "text/plain": [
       "Training task_0_fold_3:   0%|          | 0/200 [00:00<?, ?it/s]"
      ]
     },
     "metadata": {},
     "output_type": "display_data"
    },
    {
     "data": {
      "application/vnd.jupyter.widget-view+json": {
       "model_id": "841765c0a11c4f7eab231bc9117b5de5",
       "version_major": 2,
       "version_minor": 0
      },
      "text/plain": [
       "Training task_0_fold_4:   0%|          | 0/200 [00:00<?, ?it/s]"
      ]
     },
     "metadata": {},
     "output_type": "display_data"
    },
    {
     "data": {
      "application/vnd.jupyter.widget-view+json": {
       "model_id": "24d7d324bda14ffda4a44f9045bace36",
       "version_major": 2,
       "version_minor": 0
      },
      "text/plain": [
       "Training task_1_fold_0:   0%|          | 0/200 [00:00<?, ?it/s]"
      ]
     },
     "metadata": {},
     "output_type": "display_data"
    },
    {
     "data": {
      "application/vnd.jupyter.widget-view+json": {
       "model_id": "e390906bea9a47b4bcd92fc7f10291ef",
       "version_major": 2,
       "version_minor": 0
      },
      "text/plain": [
       "Training task_1_fold_1:   0%|          | 0/200 [00:00<?, ?it/s]"
      ]
     },
     "metadata": {},
     "output_type": "display_data"
    },
    {
     "data": {
      "application/vnd.jupyter.widget-view+json": {
       "model_id": "b261061054974fc5952b7f977506bba4",
       "version_major": 2,
       "version_minor": 0
      },
      "text/plain": [
       "Training task_1_fold_2:   0%|          | 0/200 [00:00<?, ?it/s]"
      ]
     },
     "metadata": {},
     "output_type": "display_data"
    },
    {
     "data": {
      "application/vnd.jupyter.widget-view+json": {
       "model_id": "0160bf57dbc341779d818d9dbc07a64d",
       "version_major": 2,
       "version_minor": 0
      },
      "text/plain": [
       "Training task_1_fold_3:   0%|          | 0/200 [00:00<?, ?it/s]"
      ]
     },
     "metadata": {},
     "output_type": "display_data"
    },
    {
     "data": {
      "application/vnd.jupyter.widget-view+json": {
       "model_id": "3a13483b7aa0464dbb36d29be044696d",
       "version_major": 2,
       "version_minor": 0
      },
      "text/plain": [
       "Training task_1_fold_4:   0%|          | 0/200 [00:00<?, ?it/s]"
      ]
     },
     "metadata": {},
     "output_type": "display_data"
    },
    {
     "data": {
      "application/vnd.jupyter.widget-view+json": {
       "model_id": "2b7e3ec5dd0d4c78890421b975625c10",
       "version_major": 2,
       "version_minor": 0
      },
      "text/plain": [
       "Training task_2_fold_0:   0%|          | 0/200 [00:00<?, ?it/s]"
      ]
     },
     "metadata": {},
     "output_type": "display_data"
    },
    {
     "data": {
      "application/vnd.jupyter.widget-view+json": {
       "model_id": "5816fde261294ac98396febceecb1ad3",
       "version_major": 2,
       "version_minor": 0
      },
      "text/plain": [
       "Training task_2_fold_1:   0%|          | 0/200 [00:00<?, ?it/s]"
      ]
     },
     "metadata": {},
     "output_type": "display_data"
    },
    {
     "data": {
      "application/vnd.jupyter.widget-view+json": {
       "model_id": "ee3e5439b76947e8abfc34cd02f7b433",
       "version_major": 2,
       "version_minor": 0
      },
      "text/plain": [
       "Training task_2_fold_2:   0%|          | 0/200 [00:00<?, ?it/s]"
      ]
     },
     "metadata": {},
     "output_type": "display_data"
    },
    {
     "data": {
      "application/vnd.jupyter.widget-view+json": {
       "model_id": "df960fd2c4734a48902198f7192741f8",
       "version_major": 2,
       "version_minor": 0
      },
      "text/plain": [
       "Training task_2_fold_3:   0%|          | 0/200 [00:00<?, ?it/s]"
      ]
     },
     "metadata": {},
     "output_type": "display_data"
    },
    {
     "data": {
      "application/vnd.jupyter.widget-view+json": {
       "model_id": "84e641bf96f741e9a8095d57486a14be",
       "version_major": 2,
       "version_minor": 0
      },
      "text/plain": [
       "Training task_2_fold_4:   0%|          | 0/200 [00:00<?, ?it/s]"
      ]
     },
     "metadata": {},
     "output_type": "display_data"
    },
    {
     "data": {
      "application/vnd.jupyter.widget-view+json": {
       "model_id": "8ff02f9e435840789f7c41c320decea9",
       "version_major": 2,
       "version_minor": 0
      },
      "text/plain": [
       "Training task_3_fold_0:   0%|          | 0/200 [00:00<?, ?it/s]"
      ]
     },
     "metadata": {},
     "output_type": "display_data"
    },
    {
     "data": {
      "application/vnd.jupyter.widget-view+json": {
       "model_id": "3b5dbdc731554e17ab86ef59940c78fb",
       "version_major": 2,
       "version_minor": 0
      },
      "text/plain": [
       "Training task_3_fold_1:   0%|          | 0/200 [00:00<?, ?it/s]"
      ]
     },
     "metadata": {},
     "output_type": "display_data"
    },
    {
     "data": {
      "application/vnd.jupyter.widget-view+json": {
       "model_id": "eb2ff423c3dd4148930608fc1ae3fc39",
       "version_major": 2,
       "version_minor": 0
      },
      "text/plain": [
       "Training task_3_fold_2:   0%|          | 0/200 [00:00<?, ?it/s]"
      ]
     },
     "metadata": {},
     "output_type": "display_data"
    },
    {
     "data": {
      "application/vnd.jupyter.widget-view+json": {
       "model_id": "7e40f874ca07430fb1df73d69036b19d",
       "version_major": 2,
       "version_minor": 0
      },
      "text/plain": [
       "Training task_3_fold_3:   0%|          | 0/200 [00:00<?, ?it/s]"
      ]
     },
     "metadata": {},
     "output_type": "display_data"
    },
    {
     "data": {
      "application/vnd.jupyter.widget-view+json": {
       "model_id": "1603223b71064600a7fa730a89f53ea1",
       "version_major": 2,
       "version_minor": 0
      },
      "text/plain": [
       "Training task_3_fold_4:   0%|          | 0/200 [00:00<?, ?it/s]"
      ]
     },
     "metadata": {},
     "output_type": "display_data"
    }
   ],
   "source": [
    "loss_choice = \"CrossEntropyLoss\"\n",
    "activation_choice = \"ReLu\"\n",
    "optimizer_choice = \"SGD\"\n",
    "num_neurons = 128\n",
    "\n",
    "batch_size = 16\n",
    "num_features = 2\n",
    "\n",
    "alpha = 1e-3\n",
    "\n",
    "exp_name = \"Experiment_test\"\n",
    "path_save = \"/Users/andyvarner/Documents/CI_Fall_2022/CI_Projects/NN Project/results\"\n",
    "\n",
    "path = os.path.join(path_save, exp_name)\n",
    "create_folder(path)     \n",
    "\n",
    "for i, fold_set in enumerate(all_folds):\n",
    "    \n",
    "    all_keys = fold_set.keys()\n",
    "    \n",
    "    for j, current_key in enumerate(all_keys):\n",
    "        \n",
    "        title = \"task_%s_fold_%s\" % (i, j)\n",
    "        \n",
    "        fold = fold_set[current_key]\n",
    "        \n",
    "        _, all_train_labels = fold[\"train\"]\n",
    "        num_classes = len(np.unique(all_train_labels))\n",
    "        model = MLP(alpha, num_features, num_classes, num_neurons, loss_choice, activation_choice, optimizer_choice)\n",
    "        train_results, valid_results = train(fold, model, batch_size, title, num_classes)\n",
    "\n",
    "        results = {}\n",
    "        results[\"train\"] = train_results\n",
    "        results[\"test\"] = valid_results\n",
    "        \n",
    "        #dump train_results\n",
    "        \n",
    "        path_save = os.path.join(path, \"task_%s\" % (str(i).zfill(3)))\n",
    "        \n",
    "        if(not(os.path.exists(path_save))):\n",
    "            create_folder(path_save)\n",
    "        \n",
    "        title = \"fold_%s.pkl\" % (str(j).zfill(3))\n",
    "        \n",
    "        filename = os.path.join(path_save, title)\n",
    "        \n",
    "        pickle.dump(results, open(filename, \"wb\"))\n",
    "        \n",
    "        #dump test_results\n",
    "    \n",
    "        "
   ]
  },
  {
   "cell_type": "code",
   "execution_count": null,
   "id": "f6593915",
   "metadata": {},
   "outputs": [],
   "source": []
  }
 ],
 "metadata": {
  "kernelspec": {
   "display_name": "Python 3 (ipykernel)",
   "language": "python",
   "name": "python3"
  },
  "language_info": {
   "codemirror_mode": {
    "name": "ipython",
    "version": 3
   },
   "file_extension": ".py",
   "mimetype": "text/x-python",
   "name": "python",
   "nbconvert_exporter": "python",
   "pygments_lexer": "ipython3",
   "version": "3.10.8"
  }
 },
 "nbformat": 4,
 "nbformat_minor": 5
}
