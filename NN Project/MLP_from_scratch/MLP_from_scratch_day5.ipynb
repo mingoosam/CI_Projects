{
 "cells": [
  {
   "cell_type": "code",
   "execution_count": 2,
   "id": "459e340c",
   "metadata": {},
   "outputs": [],
   "source": [
    "import sys\n",
    "import numpy as np\n",
    "import matplotlib.pyplot as plt\n",
    "import random\n",
    "import nnfs\n",
    "from nnfs.datasets import spiral_data\n",
    "\n",
    "nnfs.init()"
   ]
  },
  {
   "cell_type": "code",
   "execution_count": 3,
   "id": "0d01cb10",
   "metadata": {},
   "outputs": [],
   "source": [
    "# activation functions: Heaviside, ReLu, Linear, Sigmoid\n",
    "\n",
    "# first we did inputs * weights + bias to get an output. the output is what is fed to the activation function\n",
    "# and THAT output is what is fed to the next layer\n",
    "\n",
    "# Heaviside: output gets converted to either a zero or a 1. \n",
    "# Sigmoid: 1/[1 + e^-x]: gives us a more granular output. squishes it rather than forcing to zero or 1\n",
    "#          vanishing gradient problem\n",
    "# ReLu: output can't be less than zero. also granular output. \n",
    "#         1. fast (less complex than sigmoid)\n",
    "#         2. it works. most popular for hidden layers\n",
    "\n",
    "# why do we even use an activation function?\n",
    "\n",
    "# weights and biases alone only works for linear problems. we can only fit linear functions.\n",
    "# limits us to linear approximation. gets stuck on nonlinear problems.\n",
    "\n",
    "# nice visual at 8:20. why does this work? these are nonlinear activation functions. the ReLu is *almost*\n",
    "# linear. makes it as powerful as a sigmoid function"
   ]
  },
  {
   "cell_type": "code",
   "execution_count": 4,
   "id": "ba9c3df8",
   "metadata": {},
   "outputs": [],
   "source": [
    "X = [0.2, -0.4] # training dataset (input data to NN), 3 samples\n",
    "\n",
    "\n",
    "#X, y = spiral_data(100, 3) # 100 feature sets, 3 targets/classifications (classes)\n",
    "\n",
    "# now hidden layers:\n",
    "class Layer_Dense:\n",
    "    def __init__(self, n_inputs, n_neurons): # pass in size of inputs (size of a single sample) and number of neurons\n",
    "        # note 28:17 we won't need to take the transpose when we do the forward pass\n",
    "        self.weights = 0.10 * np.random.randn(n_inputs, n_neurons) # shape is n_inputs x n_neurons\n",
    "        self.biases = np.zeros((1, n_neurons)) \n",
    "    def forward(self, inputs):\n",
    "        self.output = np.dot(inputs, self.weights) + self.biases\n",
    "\n",
    "class Activation_ReLU:\n",
    "    def forward(self, inputs):\n",
    "        self.output = np.maximum(0, inputs)\n",
    "\n",
    "class Activation_hardlim:\n",
    "    def forward(self, inputs):\n",
    "        self.ouptput = np.heaviside(X, 1)\n",
    "        "
   ]
  },
  {
   "cell_type": "code",
   "execution_count": 5,
   "id": "d700e2e9",
   "metadata": {},
   "outputs": [
    {
     "ename": "AttributeError",
     "evalue": "'list' object has no attribute 'astype'",
     "output_type": "error",
     "traceback": [
      "\u001b[0;31m---------------------------------------------------------------------------\u001b[0m",
      "\u001b[0;31mAttributeError\u001b[0m                            Traceback (most recent call last)",
      "Cell \u001b[0;32mIn[5], line 4\u001b[0m\n\u001b[1;32m      1\u001b[0m layer1 \u001b[38;5;241m=\u001b[39m Layer_Dense(\u001b[38;5;241m1\u001b[39m, \u001b[38;5;241m5\u001b[39m) \u001b[38;5;66;03m#num_inputs, num_neurons\u001b[39;00m\n\u001b[1;32m      2\u001b[0m activation1 \u001b[38;5;241m=\u001b[39m Activation_hardlim() \u001b[38;5;66;03m# applies relu to entire layer\u001b[39;00m\n\u001b[0;32m----> 4\u001b[0m \u001b[43mlayer1\u001b[49m\u001b[38;5;241;43m.\u001b[39;49m\u001b[43mforward\u001b[49m\u001b[43m(\u001b[49m\u001b[43mX\u001b[49m\u001b[43m)\u001b[49m\n\u001b[1;32m      6\u001b[0m \u001b[38;5;28mprint\u001b[39m(layer1\u001b[38;5;241m.\u001b[39moutput)\n\u001b[1;32m      7\u001b[0m \u001b[38;5;66;03m#activation1.forward(layer1.output)\u001b[39;00m\n\u001b[1;32m      8\u001b[0m \u001b[38;5;66;03m#print(activation1.output)\u001b[39;00m\n",
      "Cell \u001b[0;32mIn[4], line 13\u001b[0m, in \u001b[0;36mLayer_Dense.forward\u001b[0;34m(self, inputs)\u001b[0m\n\u001b[1;32m     12\u001b[0m \u001b[38;5;28;01mdef\u001b[39;00m \u001b[38;5;21mforward\u001b[39m(\u001b[38;5;28mself\u001b[39m, inputs):\n\u001b[0;32m---> 13\u001b[0m     \u001b[38;5;28mself\u001b[39m\u001b[38;5;241m.\u001b[39moutput \u001b[38;5;241m=\u001b[39m \u001b[43mnp\u001b[49m\u001b[38;5;241;43m.\u001b[39;49m\u001b[43mdot\u001b[49m\u001b[43m(\u001b[49m\u001b[43minputs\u001b[49m\u001b[43m,\u001b[49m\u001b[43m \u001b[49m\u001b[38;5;28;43mself\u001b[39;49m\u001b[38;5;241;43m.\u001b[39;49m\u001b[43mweights\u001b[49m\u001b[43m)\u001b[49m \u001b[38;5;241m+\u001b[39m \u001b[38;5;28mself\u001b[39m\u001b[38;5;241m.\u001b[39mbiases\n",
      "File \u001b[0;32m~/mambaforge/envs/ci/lib/python3.10/site-packages/nnfs/core.py:22\u001b[0m, in \u001b[0;36minit.<locals>.dot\u001b[0;34m(*args, **kwargs)\u001b[0m\n\u001b[1;32m     21\u001b[0m \u001b[38;5;28;01mdef\u001b[39;00m \u001b[38;5;21mdot\u001b[39m(\u001b[38;5;241m*\u001b[39margs, \u001b[38;5;241m*\u001b[39m\u001b[38;5;241m*\u001b[39mkwargs):\n\u001b[0;32m---> 22\u001b[0m     \u001b[38;5;28;01mreturn\u001b[39;00m orig_dot(\u001b[38;5;241m*\u001b[39m[a\u001b[38;5;241m.\u001b[39mastype(\u001b[38;5;124m'\u001b[39m\u001b[38;5;124mfloat64\u001b[39m\u001b[38;5;124m'\u001b[39m) \u001b[38;5;28;01mfor\u001b[39;00m a \u001b[38;5;129;01min\u001b[39;00m args], \u001b[38;5;241m*\u001b[39m\u001b[38;5;241m*\u001b[39mkwargs)\u001b[38;5;241m.\u001b[39mastype(\u001b[38;5;124m'\u001b[39m\u001b[38;5;124mfloat32\u001b[39m\u001b[38;5;124m'\u001b[39m)\n",
      "File \u001b[0;32m~/mambaforge/envs/ci/lib/python3.10/site-packages/nnfs/core.py:22\u001b[0m, in \u001b[0;36m<listcomp>\u001b[0;34m(.0)\u001b[0m\n\u001b[1;32m     21\u001b[0m \u001b[38;5;28;01mdef\u001b[39;00m \u001b[38;5;21mdot\u001b[39m(\u001b[38;5;241m*\u001b[39margs, \u001b[38;5;241m*\u001b[39m\u001b[38;5;241m*\u001b[39mkwargs):\n\u001b[0;32m---> 22\u001b[0m     \u001b[38;5;28;01mreturn\u001b[39;00m orig_dot(\u001b[38;5;241m*\u001b[39m[\u001b[43ma\u001b[49m\u001b[38;5;241;43m.\u001b[39;49m\u001b[43mastype\u001b[49m(\u001b[38;5;124m'\u001b[39m\u001b[38;5;124mfloat64\u001b[39m\u001b[38;5;124m'\u001b[39m) \u001b[38;5;28;01mfor\u001b[39;00m a \u001b[38;5;129;01min\u001b[39;00m args], \u001b[38;5;241m*\u001b[39m\u001b[38;5;241m*\u001b[39mkwargs)\u001b[38;5;241m.\u001b[39mastype(\u001b[38;5;124m'\u001b[39m\u001b[38;5;124mfloat32\u001b[39m\u001b[38;5;124m'\u001b[39m)\n",
      "\u001b[0;31mAttributeError\u001b[0m: 'list' object has no attribute 'astype'"
     ]
    }
   ],
   "source": [
    "layer1 = Layer_Dense(1, 5) #num_inputs, num_neurons\n",
    "activation1 = Activation_hardlim() # applies relu to entire layer\n",
    "\n",
    "layer1.forward(X)\n",
    "\n",
    "print(layer1.output)\n",
    "#activation1.forward(layer1.output)\n",
    "#print(activation1.output)"
   ]
  },
  {
   "cell_type": "code",
   "execution_count": 6,
   "id": "37dcdb4e",
   "metadata": {},
   "outputs": [],
   "source": [
    "# all these values basically went to zero indicating that the network is \"dying.\" but those values will get tweaked\n",
    "# when we add an optimizer\n",
    "\n",
    "# however, we could initialize biases to nonzero numbers "
   ]
  },
  {
   "cell_type": "code",
   "execution_count": 9,
   "id": "58f8822b",
   "metadata": {},
   "outputs": [
    {
     "data": {
      "text/plain": [
       "-0.13000000059604644"
      ]
     },
     "execution_count": 9,
     "metadata": {},
     "output_type": "execute_result"
    }
   ],
   "source": [
    "weights = np.array([0.3, 0.5])\n",
    "inputs = np.array([0.2, -0.4])\n",
    "bias = 0.01\n",
    "\n",
    "output = np.dot(inputs, weights) + bias\n",
    "output"
   ]
  },
  {
   "cell_type": "code",
   "execution_count": null,
   "id": "eabef9aa",
   "metadata": {},
   "outputs": [],
   "source": []
  }
 ],
 "metadata": {
  "kernelspec": {
   "display_name": "Python 3 (ipykernel)",
   "language": "python",
   "name": "python3"
  },
  "language_info": {
   "codemirror_mode": {
    "name": "ipython",
    "version": 3
   },
   "file_extension": ".py",
   "mimetype": "text/x-python",
   "name": "python",
   "nbconvert_exporter": "python",
   "pygments_lexer": "ipython3",
   "version": "3.10.8"
  }
 },
 "nbformat": 4,
 "nbformat_minor": 5
}
