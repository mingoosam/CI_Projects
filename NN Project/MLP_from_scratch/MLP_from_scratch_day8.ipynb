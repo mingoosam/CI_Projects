{
 "cells": [
  {
   "cell_type": "code",
   "execution_count": 1,
   "id": "459e340c",
   "metadata": {},
   "outputs": [],
   "source": [
    "import sys\n",
    "import numpy as np\n",
    "import matplotlib.pyplot as plt\n",
    "import random\n",
    "import nnfs\n",
    "from nnfs.datasets import spiral_data\n",
    "import math\n",
    "\n",
    "nnfs.init()"
   ]
  },
  {
   "cell_type": "code",
   "execution_count": 2,
   "id": "8636398e",
   "metadata": {},
   "outputs": [],
   "source": [
    "# implementing loss"
   ]
  },
  {
   "cell_type": "code",
   "execution_count": 3,
   "id": "ecf171b6",
   "metadata": {},
   "outputs": [],
   "source": [
    "class Layer_Dense:\n",
    "    def __init__(self, n_inputs, n_neurons): # pass in size of inputs (size of a single sample) and number of neurons\n",
    "        # note 28:17 we won't need to take the transpose when we do the forward pass\n",
    "        self.weights = 0.10 * np.random.randn(n_inputs, n_neurons) # shape is n_inputs x n_neurons\n",
    "        self.biases = np.zeros((1, n_neurons)) \n",
    "    def forward(self, inputs):\n",
    "        self.output = np.dot(inputs, self.weights) + self.biases\n",
    "\n",
    "class Activation_ReLU:\n",
    "    def forward(self, inputs):\n",
    "        self.output = np.maximum(0, inputs)\n",
    "        \n",
    "class Activation_Softmax:\n",
    "    def forward(self, inputs):\n",
    "        exp_values = np.exp(inputs - np.max(inputs, axis=1, keepdims = True))  #inputs is a batch of outputs\n",
    "        probabilities = exp_values / np.sum(exp_values, axis = 1, keepdims = True) # sum each row\n",
    "        self.output = probabilities\n",
    "        \n",
    "class Loss:\n",
    "    def calculate(self, output, y): #output from the model, intended target values\n",
    "        sample_losses = self.forward(output, y)\n",
    "        data_loss = np.mean(sample_losses) # batch loss\n",
    "        return data_loss\n",
    "    \n",
    "class Loss_CategoricalCrossEntropy(Loss):\n",
    "    def forward(self, y_pred, y_true):\n",
    "        samples = len(y_pred)\n",
    "        y_pred_clipped = np.clip(y_pred, 1e-7, 1-1e-7)\n",
    "        \n",
    "        if len(y_true.shape) == 1: # this means they passed scalar values, not one hot encoding\n",
    "            correct_confidences = y_pred_clipped[range(samples), y_true]\n",
    "        elif len(y_true.shape) == 2: # one hot encoded vectors are being passed\n",
    "            correct_confidences = np.sum(y_pred_clipped*y_true, axis=1)\n",
    "            \n",
    "        negative_log_likelihoods = -np.log(correct_confidences)\n",
    "        return negative_log_likelihoods"
   ]
  },
  {
   "cell_type": "code",
   "execution_count": 5,
   "id": "74d71064",
   "metadata": {},
   "outputs": [
    {
     "name": "stdout",
     "output_type": "stream",
     "text": [
      "[[0.33333334 0.33333334 0.33333334]\n",
      " [0.33335656 0.33332282 0.33332065]\n",
      " [0.3333794  0.33331248 0.3333082 ]\n",
      " [0.33340728 0.3332996  0.3332931 ]\n",
      " [0.3334332  0.33328772 0.33327907]]\n",
      "loss 1.0982093\n"
     ]
    }
   ],
   "source": [
    "X, y = spiral_data(samples=100, classes=3)\n",
    "\n",
    "dense1 = Layer_Dense(2,3)\n",
    "activation1 = Activation_ReLU()\n",
    "\n",
    "dense2 = Layer_Dense(3,3)\n",
    "activation2 = Activation_Softmax()\n",
    "\n",
    "dense1.forward(X)\n",
    "activation1.forward(dense1.output)\n",
    "\n",
    "dense2.forward(activation1.output)\n",
    "activation2.forward(dense2.output)\n",
    "\n",
    "print(activation2.output[:5]) # first 5 of 300 outputs. this is a batch of 300.\n",
    "\n",
    "loss_function = Loss_CategoricalCrossEntropy()\n",
    "loss = loss_function.calculate(activation2.output, y)\n",
    "\n",
    "print(\"loss\", loss)"
   ]
  },
  {
   "cell_type": "code",
   "execution_count": null,
   "id": "3231b078",
   "metadata": {},
   "outputs": [],
   "source": [
    "softmax_output = [0.7, 0.1, 0.2]\n",
    "\n",
    "target_class = 0  # at index 0 it's \"hot\" otherwise it's n class length, which is 3\n",
    "target_output = [1, 0, 0]\n",
    "\n",
    "loss = -(math.log(softmax_output[0]) * target_output[0] +\n",
    "        math.log(softmax_output[1]) * target_output[1] +\n",
    "        math.log(softmax_output[2]) * target_output[2])\n",
    "# equivalent to:\n",
    "loss = -(math.log(softmax_output[0]))\n",
    "print(loss)\n",
    "\n",
    "# loss is inversely proportional to confidence."
   ]
  },
  {
   "cell_type": "code",
   "execution_count": null,
   "id": "a55e6c2e",
   "metadata": {},
   "outputs": [],
   "source": []
  }
 ],
 "metadata": {
  "kernelspec": {
   "display_name": "Python 3 (ipykernel)",
   "language": "python",
   "name": "python3"
  },
  "language_info": {
   "codemirror_mode": {
    "name": "ipython",
    "version": 3
   },
   "file_extension": ".py",
   "mimetype": "text/x-python",
   "name": "python",
   "nbconvert_exporter": "python",
   "pygments_lexer": "ipython3",
   "version": "3.10.6"
  }
 },
 "nbformat": 4,
 "nbformat_minor": 5
}
