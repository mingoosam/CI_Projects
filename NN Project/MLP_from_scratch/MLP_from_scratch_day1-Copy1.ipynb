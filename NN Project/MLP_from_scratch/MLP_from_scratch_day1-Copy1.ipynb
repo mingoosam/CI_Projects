{
 "cells": [
  {
   "cell_type": "code",
   "execution_count": 1,
   "id": "459e340c",
   "metadata": {},
   "outputs": [],
   "source": [
    "import sys\n",
    "import numpy as np\n",
    "import matplotlib.pyplot as plt"
   ]
  },
  {
   "cell_type": "code",
   "execution_count": 4,
   "id": "ba9c3df8",
   "metadata": {},
   "outputs": [],
   "source": [
    "# inputs, weights and bias for a single neuron in the first hidden layer\n",
    "\n",
    "inputs = [1, 2, 3] # outputs from 3 neurons in the previous layer\n",
    "weights = [0.2, 0.8, -0.5] # each output has a weight\n",
    "bias = 2 # every unique neuron has a unique bias"
   ]
  },
  {
   "cell_type": "code",
   "execution_count": 5,
   "id": "38cc9131",
   "metadata": {},
   "outputs": [
    {
     "name": "stdout",
     "output_type": "stream",
     "text": [
      "2.3\n"
     ]
    }
   ],
   "source": [
    "output = inputs[0]*weights[0] + inputs[1]*weights[1] + inputs[2]*weights[2] + bias\n",
    "print(output)"
   ]
  }
 ],
 "metadata": {
  "kernelspec": {
   "display_name": "Python 3 (ipykernel)",
   "language": "python",
   "name": "python3"
  },
  "language_info": {
   "codemirror_mode": {
    "name": "ipython",
    "version": 3
   },
   "file_extension": ".py",
   "mimetype": "text/x-python",
   "name": "python",
   "nbconvert_exporter": "python",
   "pygments_lexer": "ipython3",
   "version": "3.10.6"
  }
 },
 "nbformat": 4,
 "nbformat_minor": 5
}
