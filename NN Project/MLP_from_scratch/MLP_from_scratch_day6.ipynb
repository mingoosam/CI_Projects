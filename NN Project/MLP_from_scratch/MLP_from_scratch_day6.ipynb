{
 "cells": [
  {
   "cell_type": "code",
   "execution_count": 3,
   "id": "459e340c",
   "metadata": {},
   "outputs": [],
   "source": [
    "import sys\n",
    "import numpy as np\n",
    "import matplotlib.pyplot as plt\n",
    "import random\n",
    "import nnfs\n",
    "from nnfs.datasets import spiral_data\n",
    "import math\n",
    "\n",
    "nnfs.init()"
   ]
  },
  {
   "cell_type": "code",
   "execution_count": 10,
   "id": "0d01cb10",
   "metadata": {},
   "outputs": [],
   "source": [
    "# softmax activation function. used for output layer on classifier nn model\n",
    "\n",
    "# what do we do with our output values?\n",
    "\n",
    "# first step in training a model: how wrong is this model? issues: bounding, every neuron is exclusive...\n",
    "# no formal, uniform way to determine how wrong we are. softmax helps solve these issues. also, the\n",
    "# problem of negativity...\n",
    "\n",
    "# y = e^x --> solves the problem. none of our values are negative, and we don't lose the \"meaning\" in negative\n",
    "# numbers; e.g., we don't have to equivocate a 9 and a -9"
   ]
  },
  {
   "cell_type": "code",
   "execution_count": 11,
   "id": "bf03cf2f",
   "metadata": {},
   "outputs": [
    {
     "name": "stdout",
     "output_type": "stream",
     "text": [
      "[0.89528266 0.02470831 0.08000903]\n",
      "0.9999999999999999\n"
     ]
    }
   ],
   "source": [
    "layer_outputs = [4.8, 1.21, 2.385] # let's assume index 0 is the predicted target\n",
    "\n",
    "E = math.e\n",
    "\n",
    "exp_values = np.exp(layer_outputs)\n",
    "\n",
    "# we got rid of negatives w/o losing the meaning of a negative value.\n",
    "#now we normalize the values. gives us a probablity distribution\n",
    "\n",
    "norm_values = exp_values / np.sum(exp_values)\n",
    "\n",
    "print(norm_values)\n",
    "print(sum(norm_values))"
   ]
  },
  {
   "cell_type": "code",
   "execution_count": 12,
   "id": "be02c679",
   "metadata": {},
   "outputs": [],
   "source": [
    "# to sum up: input -> exponentiate -> normalize -> output\n",
    "# softmax = exponentiate + normalize\n",
    "\n",
    "# next: convert this to work as a batch so we have a batch of inputs, get a batch of outputs:"
   ]
  },
  {
   "cell_type": "code",
   "execution_count": 13,
   "id": "c04fc0a4",
   "metadata": {},
   "outputs": [
    {
     "name": "stdout",
     "output_type": "stream",
     "text": [
      "[[8.95282664e-01 2.47083068e-02 8.00090293e-02]\n",
      " [9.99811129e-01 2.23163963e-05 1.66554348e-04]\n",
      " [5.13097164e-01 3.58333899e-01 1.28568936e-01]]\n"
     ]
    }
   ],
   "source": [
    "layer_outs = [[4.8, 1.21, 2.385],\n",
    "                 [8.9, -1.81, 0.2],\n",
    "                 [1.41, 1.051, 0.026]\n",
    "    \n",
    "                ]\n",
    "exp_vals = np.exp(layer_outs)\n",
    "\n",
    "# have to change how we get the sum. we want the sum of each input (so three sums)\n",
    "norm_vals = exp_vals / np.sum(exp_vals, axis=1, keepdims=True) # axis = 1 to get the rows\n",
    "print(norm_vals)"
   ]
  },
  {
   "cell_type": "code",
   "execution_count": null,
   "id": "121b41f8",
   "metadata": {},
   "outputs": [],
   "source": [
    "# issue with exponents: it blows up.\n",
    "# overflow prevention: subtract the largest value in that layer from all values in the layer. \n",
    "# this squishes all the values between 0 and 1"
   ]
  }
 ],
 "metadata": {
  "kernelspec": {
   "display_name": "Python 3 (ipykernel)",
   "language": "python",
   "name": "python3"
  },
  "language_info": {
   "codemirror_mode": {
    "name": "ipython",
    "version": 3
   },
   "file_extension": ".py",
   "mimetype": "text/x-python",
   "name": "python",
   "nbconvert_exporter": "python",
   "pygments_lexer": "ipython3",
   "version": "3.10.6"
  }
 },
 "nbformat": 4,
 "nbformat_minor": 5
}
