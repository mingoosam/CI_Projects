{
 "cells": [
  {
   "cell_type": "code",
   "execution_count": 6,
   "id": "459e340c",
   "metadata": {},
   "outputs": [],
   "source": [
    "import sys\n",
    "import numpy as np\n",
    "import matplotlib.pyplot as plt"
   ]
  },
  {
   "cell_type": "code",
   "execution_count": 7,
   "id": "ba9c3df8",
   "metadata": {},
   "outputs": [],
   "source": [
    "# model 3 neurons with 4 inputs (this is a layer)\n",
    "\n",
    "inputs = [0, -2] # outputs from 4 neurons in the previous layer\n",
    "inputs1 = [1, -2]\n",
    "\n",
    "w1 = [-2, -1] # each output has a weight\n",
    "w2 = [0.5, -0.91, 0.26, -0.5]\n",
    "w3 = [-0.26, -0.27, 0.17, 0.87]\n",
    "\n",
    "b1 = 2.0 # every unique neuron has a unique bias\n",
    "b2 = 3.0\n",
    "b3 = 0.5"
   ]
  },
  {
   "cell_type": "code",
   "execution_count": 18,
   "id": "38cc9131",
   "metadata": {},
   "outputs": [
    {
     "name": "stdout",
     "output_type": "stream",
     "text": [
      "[4.8, 1.21, 2.385]\n"
     ]
    }
   ],
   "source": [
    "output = [inputs[0]*w1[0] + inputs[1]*w1[1] + inputs[2]*w1[2] + inputs[3]*w1[3] + b1,\n",
    "          inputs[0]*w2[0] + inputs[1]*w2[1] + inputs[2]*w2[2] + inputs[3]*w2[3] + b2,\n",
    "          inputs[0]*w3[0] + inputs[1]*w3[1] + inputs[2]*w3[2] + inputs[3]*w3[3] + b3]\n",
    "          \n",
    "print(output)"
   ]
  },
  {
   "cell_type": "code",
   "execution_count": 4,
   "id": "e347f971",
   "metadata": {},
   "outputs": [
    {
     "name": "stdout",
     "output_type": "stream",
     "text": [
      "4.0\n"
     ]
    }
   ],
   "source": [
    "out = inputs[0]*w1[0] +inputs[1]*w1[1] + b1\n",
    "print(out)"
   ]
  },
  {
   "cell_type": "code",
   "execution_count": 8,
   "id": "db11e5ee",
   "metadata": {},
   "outputs": [
    {
     "name": "stdout",
     "output_type": "stream",
     "text": [
      "2.0\n"
     ]
    }
   ],
   "source": [
    "out = inputs1[0]*w1[0] +inputs1[1]*w1[1] + b1\n",
    "print(out)"
   ]
  },
  {
   "cell_type": "code",
   "execution_count": null,
   "id": "124c8f1b",
   "metadata": {},
   "outputs": [],
   "source": []
  }
 ],
 "metadata": {
  "kernelspec": {
   "display_name": "Python 3 (ipykernel)",
   "language": "python",
   "name": "python3"
  },
  "language_info": {
   "codemirror_mode": {
    "name": "ipython",
    "version": 3
   },
   "file_extension": ".py",
   "mimetype": "text/x-python",
   "name": "python",
   "nbconvert_exporter": "python",
   "pygments_lexer": "ipython3",
   "version": "3.10.8"
  }
 },
 "nbformat": 4,
 "nbformat_minor": 5
}
