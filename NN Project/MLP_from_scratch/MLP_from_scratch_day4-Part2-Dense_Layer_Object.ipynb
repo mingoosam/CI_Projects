{
 "cells": [
  {
   "cell_type": "code",
   "execution_count": 1,
   "id": "459e340c",
   "metadata": {},
   "outputs": [],
   "source": [
    "import sys\n",
    "import numpy as np\n",
    "import matplotlib.pyplot as plt\n",
    "import random\n",
    "\n",
    "np.random.seed(0)"
   ]
  },
  {
   "cell_type": "code",
   "execution_count": 2,
   "id": "0d01cb10",
   "metadata": {},
   "outputs": [],
   "source": [
    "# object layers"
   ]
  },
  {
   "cell_type": "code",
   "execution_count": 3,
   "id": "ba9c3df8",
   "metadata": {},
   "outputs": [],
   "source": [
    "# model 3 neurons with 4 inputs (this is a layer)\n",
    "\n",
    "X = [[1.0, 2.0, 3.0, 2.5], # training dataset (input data to NN), 3 samples\n",
    "    [2.0, 5.0, -1.0, 2.],\n",
    "    [-1.5, 2.7, 3.3, -0.8]]\n",
    "\n",
    "# now hidden layers:\n",
    "class Layer_Dense:\n",
    "    def __init__(self, n_inputs, n_neurons): # pass in size of inputs (size of a single sample) and number of neurons\n",
    "        # note 28:17 we won't need to take the transpose when we do the forward pass\n",
    "        self.weights = 0.10 * np.random.randn(n_inputs, n_neurons) # shape is n_inputs x n_neurons\n",
    "        self.biases = np.zeros((1, n_neurons)) \n",
    "    def forward(self, inputs):\n",
    "        self.output = np.dot(inputs, self.weights) + self.biases\n",
    "    \n"
   ]
  },
  {
   "cell_type": "code",
   "execution_count": 4,
   "id": "46acf944",
   "metadata": {},
   "outputs": [
    {
     "name": "stdout",
     "output_type": "stream",
     "text": [
      "[[ 0.10758131  1.03983522  0.24462411  0.31821498  0.18851053]\n",
      " [-0.08349796  0.70846411  0.00293357  0.44701525  0.36360538]\n",
      " [-0.50763245  0.55688422  0.07987797 -0.34889573  0.04553042]]\n"
     ]
    }
   ],
   "source": [
    "n_inputs = 4 # number of features\n",
    "n_neurons = 5 # whatever you want\n",
    "\n",
    "layer1 = Layer_Dense(n_inputs, n_neurons)\n",
    "layer2 = Layer_Dense(n_neurons, 2)\n",
    "\n",
    "layer1.forward(X)\n",
    "print(layer1.output)"
   ]
  },
  {
   "cell_type": "code",
   "execution_count": 5,
   "id": "5a3cf746",
   "metadata": {},
   "outputs": [
    {
     "name": "stdout",
     "output_type": "stream",
     "text": [
      "[[ 0.148296   -0.08397602]\n",
      " [ 0.14100315 -0.01340469]\n",
      " [ 0.20124979 -0.07290616]]\n"
     ]
    }
   ],
   "source": [
    "layer2.forward(layer1.output)\n",
    "print(layer2.output)"
   ]
  },
  {
   "cell_type": "code",
   "execution_count": null,
   "id": "d700e2e9",
   "metadata": {},
   "outputs": [],
   "source": []
  }
 ],
 "metadata": {
  "kernelspec": {
   "display_name": "Python 3 (ipykernel)",
   "language": "python",
   "name": "python3"
  },
  "language_info": {
   "codemirror_mode": {
    "name": "ipython",
    "version": 3
   },
   "file_extension": ".py",
   "mimetype": "text/x-python",
   "name": "python",
   "nbconvert_exporter": "python",
   "pygments_lexer": "ipython3",
   "version": "3.10.6"
  }
 },
 "nbformat": 4,
 "nbformat_minor": 5
}
