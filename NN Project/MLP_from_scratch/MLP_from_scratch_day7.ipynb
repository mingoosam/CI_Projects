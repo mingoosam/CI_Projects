{
 "cells": [
  {
   "cell_type": "code",
   "execution_count": 1,
   "id": "459e340c",
   "metadata": {},
   "outputs": [],
   "source": [
    "import sys\n",
    "import numpy as np\n",
    "import matplotlib.pyplot as plt\n",
    "import random\n",
    "import nnfs\n",
    "from nnfs.datasets import spiral_data\n",
    "import math\n",
    "\n",
    "nnfs.init()"
   ]
  },
  {
   "cell_type": "code",
   "execution_count": 2,
   "id": "8636398e",
   "metadata": {},
   "outputs": [],
   "source": [
    "#calculating loss: error metric. how wrong is our model that we're training?\n",
    "\n",
    "# accuracy?\n",
    "# we throw away a lot of useful information. NN doesn't actually output a classification, it outputs a \n",
    "# prob. distribution, or moreso a confidence score.\n",
    "\n",
    "# mean absolute error is an example of a loss function. often used with regression (where we want to output\n",
    "# a specific value rather than a confidence score)\n",
    "\n",
    "# categorical cross-entropy is a good loss function for classification(3:30) this formula simplifies with\n",
    "# one hot encoding (he works it out at 9:00). it works, and it's convenient in backpropagation / optimization steps\n",
    "\n",
    "# one-hot encoding: 5:02"
   ]
  },
  {
   "cell_type": "code",
   "execution_count": 6,
   "id": "3231b078",
   "metadata": {},
   "outputs": [
    {
     "name": "stdout",
     "output_type": "stream",
     "text": [
      "0.35667494393873245\n"
     ]
    }
   ],
   "source": [
    "softmax_output = [0.7, 0.1, 0.2]\n",
    "\n",
    "target_class = 0  # at index 0 it's \"hot\" otherwise it's n class length, which is 3\n",
    "target_output = [1, 0, 0]\n",
    "\n",
    "loss = -(math.log(softmax_output[0]) * target_output[0] +\n",
    "        math.log(softmax_output[1]) * target_output[1] +\n",
    "        math.log(softmax_output[2]) * target_output[2])\n",
    "# equivalent to:\n",
    "loss = -(math.log(softmax_output[0]))\n",
    "print(loss)\n",
    "\n",
    "# loss is inversely proportional to confidence."
   ]
  },
  {
   "cell_type": "code",
   "execution_count": null,
   "id": "a55e6c2e",
   "metadata": {},
   "outputs": [],
   "source": []
  }
 ],
 "metadata": {
  "kernelspec": {
   "display_name": "Python 3 (ipykernel)",
   "language": "python",
   "name": "python3"
  },
  "language_info": {
   "codemirror_mode": {
    "name": "ipython",
    "version": 3
   },
   "file_extension": ".py",
   "mimetype": "text/x-python",
   "name": "python",
   "nbconvert_exporter": "python",
   "pygments_lexer": "ipython3",
   "version": "3.10.6"
  }
 },
 "nbformat": 4,
 "nbformat_minor": 5
}
