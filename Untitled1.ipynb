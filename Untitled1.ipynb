{
 "cells": [
  {
   "cell_type": "code",
   "execution_count": 16,
   "id": "660a8e7d",
   "metadata": {},
   "outputs": [
    {
     "name": "stdout",
     "output_type": "stream",
     "text": [
      "sum = 15, cumsum=[ 1  3  6 10 15]\n",
      "2 1\n"
     ]
    }
   ],
   "source": [
    "import numpy as np\n",
    "# find the relative fitness of each individual\n",
    "population = [1,2,3,4,5]\n",
    "population = np.asarray(population)\n",
    "sum_of_fitnesses = sum(population)\n",
    "cum_sum = np.cumsum(population)\n",
    "print(f\"sum = {sum_of_fitnesses}, cumsum={cum_sum}\")\n",
    "rel_fit = [x / sum_of_fitnesses for x in population]\n",
    "sigma = 0.15\n",
    "\n",
    "winner = 0\n",
    "for i, x in enumerate(rel_fit):\n",
    "    if rel_fit[i] < sigma:\n",
    "        winner = population[i]\n",
    "        index = i\n",
    "print(winner,index)\n"
   ]
  },
  {
   "cell_type": "code",
   "execution_count": 18,
   "id": "2df901c3",
   "metadata": {},
   "outputs": [
    {
     "name": "stdout",
     "output_type": "stream",
     "text": [
      "[0]\n"
     ]
    }
   ],
   "source": [
    "r = sum_of_fitnesses * np.random.rand()\n",
    "index = np.argwhere(r <=cum_sum)\n",
    "print(index[0])"
   ]
  },
  {
   "cell_type": "code",
   "execution_count": null,
   "id": "e3a94ad1",
   "metadata": {},
   "outputs": [],
   "source": []
  }
 ],
 "metadata": {
  "kernelspec": {
   "display_name": "Python 3 (ipykernel)",
   "language": "python",
   "name": "python3"
  },
  "language_info": {
   "codemirror_mode": {
    "name": "ipython",
    "version": 3
   },
   "file_extension": ".py",
   "mimetype": "text/x-python",
   "name": "python",
   "nbconvert_exporter": "python",
   "pygments_lexer": "ipython3",
   "version": "3.10.6"
  }
 },
 "nbformat": 4,
 "nbformat_minor": 5
}
