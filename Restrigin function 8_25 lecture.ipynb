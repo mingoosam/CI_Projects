{
 "cells": [
  {
   "cell_type": "code",
   "execution_count": 2,
   "id": "b6df3509",
   "metadata": {},
   "outputs": [],
   "source": [
    "import mpmath\n",
    "import numpy as np\n",
    "from sympy import *\n",
    "from sympy.plotting import plot"
   ]
  },
  {
   "cell_type": "code",
   "execution_count": 3,
   "id": "3846c304",
   "metadata": {},
   "outputs": [
    {
     "data": {
      "text/latex": [
       "$\\displaystyle \\int x^{x}\\, dx$"
      ],
      "text/plain": [
       "Integral(x**x, x)"
      ]
     },
     "execution_count": 3,
     "metadata": {},
     "output_type": "execute_result"
    }
   ],
   "source": [
    "x = Symbol('x')\n",
    "\n",
    "func = x**x,x\n",
    "expr = integrate(x**x,x)\n",
    "expr"
   ]
  },
  {
   "cell_type": "code",
   "execution_count": 6,
   "id": "454512f8",
   "metadata": {},
   "outputs": [],
   "source": [
    "from sympy import Sum, symbols, Indexed, lambdify\n",
    "from sympy.plotting import plot3d_parametric_surface\n",
    "x,i = symbols(\"x i\")\n",
    "s = Sum(Indexed('s',i),(i,0,3))\n",
    "f = lambdify(x,s)\n",
    "b = [1,2,3,4]\n",
    "b = np.asarray(b)"
   ]
  },
  {
   "cell_type": "code",
   "execution_count": 7,
   "id": "67efbdb7",
   "metadata": {},
   "outputs": [
    {
     "ename": "TypeError",
     "evalue": "'Symbol' object is not subscriptable",
     "output_type": "error",
     "traceback": [
      "\u001b[0;31m---------------------------------------------------------------------------\u001b[0m",
      "\u001b[0;31mTypeError\u001b[0m                                 Traceback (most recent call last)",
      "Input \u001b[0;32mIn [7]\u001b[0m, in \u001b[0;36m<cell line: 1>\u001b[0;34m()\u001b[0m\n\u001b[0;32m----> 1\u001b[0m plot3d_parametric_surface(\u001b[43mf\u001b[49m\u001b[43m(\u001b[49m\u001b[43mb\u001b[49m\u001b[43m)\u001b[49m)\n",
      "File \u001b[0;32m<lambdifygenerated-3>:2\u001b[0m, in \u001b[0;36m_lambdifygenerated\u001b[0;34m(x)\u001b[0m\n\u001b[1;32m      1\u001b[0m \u001b[38;5;28;01mdef\u001b[39;00m \u001b[38;5;21m_lambdifygenerated\u001b[39m(x):\n\u001b[0;32m----> 2\u001b[0m     \u001b[38;5;28;01mreturn\u001b[39;00m (\u001b[43mbuiltins\u001b[49m\u001b[38;5;241;43m.\u001b[39;49m\u001b[43msum\u001b[49m\u001b[43m(\u001b[49m\u001b[43ms\u001b[49m\u001b[43m[\u001b[49m\u001b[43mi\u001b[49m\u001b[43m]\u001b[49m\u001b[43m \u001b[49m\u001b[38;5;28;43;01mfor\u001b[39;49;00m\u001b[43m \u001b[49m\u001b[43mi\u001b[49m\u001b[43m \u001b[49m\u001b[38;5;129;43;01min\u001b[39;49;00m\u001b[43m \u001b[49m\u001b[38;5;28;43mrange\u001b[39;49m\u001b[43m(\u001b[49m\u001b[38;5;241;43m0\u001b[39;49m\u001b[43m,\u001b[49m\u001b[43m \u001b[49m\u001b[38;5;241;43m3\u001b[39;49m\u001b[38;5;241;43m+\u001b[39;49m\u001b[38;5;241;43m1\u001b[39;49m\u001b[43m)\u001b[49m\u001b[43m)\u001b[49m)\n",
      "File \u001b[0;32m<lambdifygenerated-3>:2\u001b[0m, in \u001b[0;36m<genexpr>\u001b[0;34m(.0)\u001b[0m\n\u001b[1;32m      1\u001b[0m \u001b[38;5;28;01mdef\u001b[39;00m \u001b[38;5;21m_lambdifygenerated\u001b[39m(x):\n\u001b[0;32m----> 2\u001b[0m     \u001b[38;5;28;01mreturn\u001b[39;00m (builtins\u001b[38;5;241m.\u001b[39msum(\u001b[43ms\u001b[49m\u001b[43m[\u001b[49m\u001b[43mi\u001b[49m\u001b[43m]\u001b[49m \u001b[38;5;28;01mfor\u001b[39;00m i \u001b[38;5;129;01min\u001b[39;00m \u001b[38;5;28mrange\u001b[39m(\u001b[38;5;241m0\u001b[39m, \u001b[38;5;241m3\u001b[39m\u001b[38;5;241m+\u001b[39m\u001b[38;5;241m1\u001b[39m)))\n",
      "\u001b[0;31mTypeError\u001b[0m: 'Symbol' object is not subscriptable"
     ]
    }
   ],
   "source": [
    "plot3d_parametric_surface(f(b))"
   ]
  },
  {
   "cell_type": "code",
   "execution_count": null,
   "id": "fafa8a65",
   "metadata": {},
   "outputs": [],
   "source": []
  }
 ],
 "metadata": {
  "kernelspec": {
   "display_name": "Python 3 (ipykernel)",
   "language": "python",
   "name": "python3"
  },
  "language_info": {
   "codemirror_mode": {
    "name": "ipython",
    "version": 3
   },
   "file_extension": ".py",
   "mimetype": "text/x-python",
   "name": "python",
   "nbconvert_exporter": "python",
   "pygments_lexer": "ipython3",
   "version": "3.10.6"
  }
 },
 "nbformat": 4,
 "nbformat_minor": 5
}
